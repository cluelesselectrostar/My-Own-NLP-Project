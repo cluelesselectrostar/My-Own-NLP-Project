{
 "metadata": {
  "language_info": {
   "codemirror_mode": {
    "name": "ipython",
    "version": 3
   },
   "file_extension": ".py",
   "mimetype": "text/x-python",
   "name": "python",
   "nbconvert_exporter": "python",
   "pygments_lexer": "ipython3",
   "version": "3.8.3-final"
  },
  "orig_nbformat": 2,
  "kernelspec": {
   "name": "python_defaultSpec_1597636939047",
   "display_name": "Python 3.8.3 64-bit ('base': conda)"
  }
 },
 "nbformat": 4,
 "nbformat_minor": 2,
 "cells": [
  {
   "cell_type": "markdown",
   "metadata": {},
   "source": [
    "# Data Cleaning\n",
    "\n",
    "> Data cleaning helps avoid \"garbage in , garbage out\" -- we do not want to feed meaningless data into a model which will probably return us with more meaningless junk.\n",
    "\n",
    "This time I will skip the scraping part that data scientists normally do. This allows the content to be updated over time, but to be fair the content is pretty static anyways so I don't really see the point of doing so. In addition, I imagine there would be quite a number of problems if the layout of the site changes.\n",
    "\n",
    "## Outline for data cleaning\n",
    "- Input: a simple text file with metadata removed. Headers and page numbers are kept though.\n",
    "- Common Pre-processing/ cleaning procedures\n",
    "  - All lower case\n",
    "  - Remove punctuation, symbols and numerical values\n",
    "  - Remove common non-sensical text (such as line breakers `\\n`)\n",
    "  - Tokenize text: split sentences into individual words (in preparation for DTM)\n",
    "  - Remove stop-words\n",
    "  - Using NLTK perform stemming and lemmatisation for words in the DTM, to reduce the number of inflicted words.\n",
    "  - Parts of speech tagging\n",
    "  - DTM for bi-grams/ tri-grams (phrases like thank you)\n",
    "- Output\n",
    "  - Corpus: not much different from the actual input since there is only one file here....... but with all the data cleaned up.\n",
    "  - Document Term matrix: a matrix of word counts in the entire corpus.\n",
    "\n",
    "SpaCy can also perform these NLTK techniques as well, with a greater degree of efficiency. The extra features might be overkill for the time being though."
   ]
  },
  {
   "cell_type": "markdown",
   "metadata": {},
   "source": [
    "## Importing the data\n",
    "\n",
    "For the purposes of this project, I will simply import the data from a text file, which will be parsed into a string object."
   ]
  },
  {
   "cell_type": "code",
   "execution_count": 1,
   "metadata": {
    "tags": []
   },
   "outputs": [],
   "source": [
    "# List of file names for books to be analysed.\n",
    "filenames = [\n",
    "    'books/charlieandthechocolatefactory.txt',\n",
    "    'books/fantasticmrfox.txt',\n",
    "    'books/matilda.txt'\n",
    "]\n",
    "\n",
    "bookNames = [\n",
    "    'chocofact',\n",
    "    'fox',\n",
    "    'matilda'\n",
    "]"
   ]
  },
  {
   "cell_type": "code",
   "execution_count": 2,
   "metadata": {},
   "outputs": [],
   "source": [
    "# Import text files\n",
    "def importText(fileName):\n",
    "    data = open(fileName, \"r\", encoding=\"utf-8\").read().replace('\\n', '')\n",
    "    return data"
   ]
  },
  {
   "cell_type": "code",
   "execution_count": 3,
   "metadata": {
    "tags": []
   },
   "outputs": [
    {
     "output_type": "stream",
     "name": "stdout",
     "text": "The Reader of Books It’s a funny thing about mothers and fathers. Even when their own child is the most disgusting little blister you could ever imagine, they still think that he or she is wonderful. Some parents go further. They become so blinded by adoration they manage to convince themselves their child has qualities of genius. Well, there is nothing very wrong with all this. It’s the way of the world. It is only when the parents begin telling us about the brilliance of their own revolting off¬ spring, that we start shouting, 'Bring us a basin! We’re going to be sick!’ 3 School teachers suffer a good deal from having to listen to this sort of twaddle from proud parents, but they usually get their own back when the time comes to write the end-of-term reports. If I were a teacher I would cook up some real scorchers for the children of doting parents. ‘Your son Maximilian,’ I would write, ‘is a total wash-out. I hope you have a family business you can push him into when he leaves school because he sure as heck won’t get a job anywhere else.’ Or if I were feeling lyrical that day, 1 might write, ‘It is a curious truth that grasshoppers have their hearing- organs in the sides of the abdomen. Your daughter Vanessa, judging by what she’s learnt this term, has no hearing-organs at all.’ 4  I might even delve deeper into natural history and say, ‘The periodical cicada spends six years as a grub underground, and no more than six days as a free creature of sunlight and air. Your son Wilfred has spent six years as a grub in this school and we are still waiting for him to emerge from the chrysalis. 5 A particularly poisonous little girl might sting me into saying, ‘Fiona has the same glacial beauty as an iceberg, but unlike the iceberg she has absolutely nothing below the surface. 5 I think I might enjoy writing end-of-term reports for the stinkers in my class. But enough of that. We have to get on. 5  Occasionally one conies across parents who take the opposite line, who show no interest at all in their children, and these of course are far worse than the doting ones. Mr and Mrs Wormwood were two such parents. They had a son called Michael and a 1 /> daughter called Matilda, and the parents . , O looked upon Matilda in particular as Of ^ ^ K, nothin? more than a scab. A scab is some- Vas A thing you have to put up with until the time comes when you can pick it off and flick it away. Mr and Mrs Wormwood looked forward enormously to the time when they could pick their little daughter off and flick her away, preferably into the next county 7 or even further than that. It is bad enough when parents treat ordinary children as though they were scabs and bunions, but it becomes somehow a lot worse when the child in question is extra- ordinary, and by that I mean sensitive and brilliant. Matilda was both of these things, but above all she was brilliant. Her mind was so nimble and she was so quick to learn that her ability should have been obvious even to the most half¬ witted of parents. But Mr and Mrs Wormwood were both so gormless and so wrapped up in their own silly little lives that they failed to notice anything unusual about their daughter. To tell the truth, I doubt they would have noticed had she crawled into the house with a broken leg. 6  Matilda’s brother Michael was a perfectly normal boy, but the sister, as I said, was something to make your eyes pop. By the age of one and a half her speech was perfect and she knew as many words as most grown-ups. The parents, instead of applauding her, called her a noisy chatterbox and told her sharply that small girls should be seen and not heard. By the time she was three , Matilda had taught herself to read by studying newspapers and magazines that lay around the house. At the age of four , she could read fast and well and she naturally began hankering after books. The only book in the whole of this enlightened household was something called Easy Cooking belonging to her mother, and when she had relief this from cover to cover and had learnt all the recipes by heart, she decided she wanted something more interesting. 7  'Daddy,’ she said, ‘do you think you could buy me a book?’ ‘A book ?’ he said. ‘What d’you want a flaming book for?’ ‘To read, Daddy.’ ‘What’s wrong with the telly, for heaven’s sake? We’ve got a lovely telly with a twelve-inch screen and now you come asking for a book! You’re getting spoiled, my girl!’ Nearly every weekday afternoon Matilda was left alone in the house. Her brother (five years older than her) went to school. Her father went to work and her mother went out playing bingo in a towm eight miles away. Mrs Wormw r ood was hooked on bingo and played it five afternoons a week. On the afternoon of the day when her father had refused to buy her a book, Matilda set out all by herself to walk to the public library in the village.-When she arrived, she introduced herself to the librarian, Mrs Phelps. She asked if she might sit aw r hile and read a book. \n"
    }
   ],
   "source": [
    "# Test print the first 5000 characters of the third book 'Matilda'\n",
    "rawBooks = [importText(bkName) for bkName in filenames]\n",
    "print(rawBooks[2][:5000])"
   ]
  },
  {
   "cell_type": "markdown",
   "metadata": {},
   "source": [
    "But we want to make sure that the texts are indexed with their names as well, such that we don't necessarily have to access them with a specific number. This makes it way more convenient the access the data in the future, especially if we decide to append a few more copies of Roald Dahl's texts!"
   ]
  },
  {
   "cell_type": "code",
   "execution_count": 4,
   "metadata": {},
   "outputs": [
    {
     "output_type": "execute_result",
     "data": {
      "text/plain": "                                                         text\nbook_names                                                   \nchocofact   This book is fantastic it is about a very poor...\nfox         Down in the valley there were three farms. The...\nmatilda     The Reader of Books It’s a funny thing about m...",
      "text/html": "<div>\n<style scoped>\n    .dataframe tbody tr th:only-of-type {\n        vertical-align: middle;\n    }\n\n    .dataframe tbody tr th {\n        vertical-align: top;\n    }\n\n    .dataframe thead th {\n        text-align: right;\n    }\n</style>\n<table border=\"1\" class=\"dataframe\">\n  <thead>\n    <tr style=\"text-align: right;\">\n      <th></th>\n      <th>text</th>\n    </tr>\n    <tr>\n      <th>book_names</th>\n      <th></th>\n    </tr>\n  </thead>\n  <tbody>\n    <tr>\n      <th>chocofact</th>\n      <td>This book is fantastic it is about a very poor...</td>\n    </tr>\n    <tr>\n      <th>fox</th>\n      <td>Down in the valley there were three farms. The...</td>\n    </tr>\n    <tr>\n      <th>matilda</th>\n      <td>The Reader of Books It’s a funny thing about m...</td>\n    </tr>\n  </tbody>\n</table>\n</div>"
     },
     "metadata": {},
     "execution_count": 4
    }
   ],
   "source": [
    "import pandas as pd\n",
    "\n",
    "raw_df = pd.DataFrame({'book_names':bookNames, 'text':rawBooks})\n",
    "\n",
    "# set book names as index\n",
    "raw_df = raw_df.set_index('book_names')\n",
    "\n",
    "# sort dataframe and print\n",
    "raw_df = raw_df.sort_index()\n",
    "raw_df"
   ]
  },
  {
   "cell_type": "markdown",
   "metadata": {},
   "source": [
    "Before we proceed any further, we should also pickle a raw copy of all books, which saves the object in a binary format. This is done for contingency purposes only."
   ]
  },
  {
   "cell_type": "code",
   "execution_count": 5,
   "metadata": {},
   "outputs": [],
   "source": [
    "import pickle\n",
    "\n",
    "with open(\"rawBooks.pkl\", \"wb\") as file:\n",
    "    pickle.dump(raw_df, file)"
   ]
  },
  {
   "cell_type": "code",
   "execution_count": 6,
   "metadata": {},
   "outputs": [
    {
     "output_type": "error",
     "ename": "AttributeError",
     "evalue": "'DataFrame' object has no attribute 'book_names'",
     "traceback": [
      "\u001b[1;31m---------------------------------------------------------------------------\u001b[0m",
      "\u001b[1;31mAttributeError\u001b[0m                            Traceback (most recent call last)",
      "\u001b[1;32m<ipython-input-6-a89eae538247>\u001b[0m in \u001b[0;36m<module>\u001b[1;34m\u001b[0m\n\u001b[0;32m      1\u001b[0m \u001b[1;31m# Check the list of book names\u001b[0m\u001b[1;33m\u001b[0m\u001b[1;33m\u001b[0m\u001b[1;33m\u001b[0m\u001b[0m\n\u001b[1;32m----> 2\u001b[1;33m \u001b[0mraw_df\u001b[0m\u001b[1;33m.\u001b[0m\u001b[0mbook_names\u001b[0m\u001b[1;33m\u001b[0m\u001b[1;33m\u001b[0m\u001b[0m\n\u001b[0m",
      "\u001b[1;32m~\\Anaconda3\\lib\\site-packages\\pandas\\core\\generic.py\u001b[0m in \u001b[0;36m__getattr__\u001b[1;34m(self, name)\u001b[0m\n\u001b[0;32m   5272\u001b[0m             \u001b[1;32mif\u001b[0m \u001b[0mself\u001b[0m\u001b[1;33m.\u001b[0m\u001b[0m_info_axis\u001b[0m\u001b[1;33m.\u001b[0m\u001b[0m_can_hold_identifiers_and_holds_name\u001b[0m\u001b[1;33m(\u001b[0m\u001b[0mname\u001b[0m\u001b[1;33m)\u001b[0m\u001b[1;33m:\u001b[0m\u001b[1;33m\u001b[0m\u001b[1;33m\u001b[0m\u001b[0m\n\u001b[0;32m   5273\u001b[0m                 \u001b[1;32mreturn\u001b[0m \u001b[0mself\u001b[0m\u001b[1;33m[\u001b[0m\u001b[0mname\u001b[0m\u001b[1;33m]\u001b[0m\u001b[1;33m\u001b[0m\u001b[1;33m\u001b[0m\u001b[0m\n\u001b[1;32m-> 5274\u001b[1;33m             \u001b[1;32mreturn\u001b[0m \u001b[0mobject\u001b[0m\u001b[1;33m.\u001b[0m\u001b[0m__getattribute__\u001b[0m\u001b[1;33m(\u001b[0m\u001b[0mself\u001b[0m\u001b[1;33m,\u001b[0m \u001b[0mname\u001b[0m\u001b[1;33m)\u001b[0m\u001b[1;33m\u001b[0m\u001b[1;33m\u001b[0m\u001b[0m\n\u001b[0m\u001b[0;32m   5275\u001b[0m \u001b[1;33m\u001b[0m\u001b[0m\n\u001b[0;32m   5276\u001b[0m     \u001b[1;32mdef\u001b[0m \u001b[0m__setattr__\u001b[0m\u001b[1;33m(\u001b[0m\u001b[0mself\u001b[0m\u001b[1;33m,\u001b[0m \u001b[0mname\u001b[0m\u001b[1;33m:\u001b[0m \u001b[0mstr\u001b[0m\u001b[1;33m,\u001b[0m \u001b[0mvalue\u001b[0m\u001b[1;33m)\u001b[0m \u001b[1;33m->\u001b[0m \u001b[1;32mNone\u001b[0m\u001b[1;33m:\u001b[0m\u001b[1;33m\u001b[0m\u001b[1;33m\u001b[0m\u001b[0m\n",
      "\u001b[1;31mAttributeError\u001b[0m: 'DataFrame' object has no attribute 'book_names'"
     ]
    }
   ],
   "source": [
    "# Check the list of book names\n",
    "raw_df.book_names"
   ]
  },
  {
   "cell_type": "code",
   "execution_count": 7,
   "metadata": {},
   "outputs": [
    {
     "output_type": "execute_result",
     "data": {
      "text/plain": "'nners,’ Badger said. ‘All rats have badmanners. I’ve never met a polite rat yet.’‘And he drinks too much,’ said Mr Fox, putting the last47\\x0cbrick in place. ‘There we are. Now, home to the feast!’They grabbed their jars of cider and off they went. MrFox was in front, the Smallest Fox came next andBadger last. Along the tunnel they flew . . . past theturning that led to Bunce’s Mighty Storehouse . . . pastBoggis’s Chicken House Number One and then up thelong home stretch towards the place where they knewMrs Fox would be waiting.‘Keep it up, my darlings!’ shouted Mr Fox. ‘We’ll soonbe there! Think what’s waiting for us at the other end!And just think what we’re bringing home with us inthese jars! That ought to cheer up poor Mrs Fox.’ MrFox sang a little song as he ran:‘Home again swiftly I glide,Back to my beautiful bride.She’ll not feel so rottenAs soon as she’s gottenSome cider inside her inside.’Then Badger joined in:48\\x0c‘Oh poor Mrs Badger, he cried,So hungry she very near died.But she’ll not feel so hollowIf only she’ll swallowSome cider inside her inside.’They were still singing as they rounded the final cornerand burst in upon the most wonderful and amazingsight any of them had ever seen. The feast was justbeginning. A large dining-room had been hollowed outof the earth, and in the middle of it, seated around ahuge table, were no less than twenty-nine animals.They were:Mrs Fox and three Small Foxes.Mrs Badger and three Small Badgers.Mole and Mrs Mole and four Small Moles.Rabbit and Mrs Rabbit and five Small Rabbits.49\\x0cWeasel and Mrs Weasel and six Small Weasels.The table was covered with chickens and ducks andgeese and hams and bacon, and everyone was tuckinginto the lovely food.‘My darling!’ cried Mrs Fox, jumping up and hugging MrFox. ‘We couldn’t wait! Please forgive us!’ Then shehugged the Smallest Fox of all, and Mrs Badger huggedBadger, and everyone hugged everyone else. Amidshouts of joy, the great jars of cider were placed uponthe table, and Mr Fox and Badger and the Smallest Foxsat down with the others.You must remember no one had eaten a thing forseveral days. They were ravenous. So for a while therewas no conversation at all. There was only the sound ofcrunching and chewing as the animals attacked thesucculent food.At last, Badger stood up. He raised his glass of ciderand called out, ‘A toast! I want you all to stand and drinka toast to our dear friend who has saved our lives thisday – Mr Fox!’‘To Mr Fox!’ they all shouted, standing up and raisingtheir glasses. ‘To Mr Fox! Long may he live!’Then Mrs Fox got shyly to her feet and said, ‘I don’twant to make a speech. I just want to say one thing,and it is this: MY HUSBAND IS A FANTASTIC FOX.’50\\x0cEveryone clapped and cheered. Then Mr Fox himselfstood up.‘This delicious meal . . .’ he began, then he stopped. Inthe silence that followed, he let fly a tremendous belch.There was laughter and more clapping. ‘This deliciousmeal, my friends,’ he went on, ‘is by courtesy of MessrsBoggis, Bunce and Bean.’ (More cheering andlaughter.) ‘And I hope you have enjoyed it as much as Ihave.’ He let fly another colossal belch.‘Better out than in,’ said Badger.‘Thank you,’ said Mr Fox, grinning hugely. ‘But now, myfriends, let us be serious. Let us think of tomorrow andthe next day and the days after that. If we go out, wewill be killed. Right?’‘Right!’ they shouted.‘We’ll be shot before we’ve gone a yard,’ said Badger.‘Ex-actly,’ said Mr Fox. ‘But whowants to go out,anyway; let me ask you that? We are all diggers, everyone of us. We hate the outside. The outside is full ofenemies. We only go out because we have to, to getfood for our families. But now, my friends, we have anentirely new set-up. We have a safe tunnel leading tothree of the finest stores in the world!’‘We do indeed!’ said Badger. ‘I’ve seen ’em!’51\\x0c‘And you know what this means?’ said Mr Fox. ‘Itmeans that none of us need ever go out into the openagain!’There was a buzz of excitement around the table.‘I therefore invite you all,’ Mr Fox went on, ‘to stay herewith me for ever.’‘For ever!’ they cried. ‘My goodness! How marvellous!’And Rabbit said to Mrs Rabbit, ‘My dear, just think!We’re never going to be shot at again in our lives!’‘We will make,’ said Mr Fox, ‘a little undergroundvillage, with streets and houses on each side –separate houses for Badgers and Moles and Rabbitsand Weasels and Foxes. And every day I will goshopping for you all. And every day we will eat likekings.’The cheering that followed this speech went on formany minutes.52\\x0cOutside the fox’s hole, Boggis and Bunce and Bean satbeside their tents with their guns on their laps. It wasbeginning to rain. Water was trickling down the necks ofthe three men and into their shoes.‘He won’t stay down there much longer now,’ Boggissaid.‘The brute must be famished,’ Bunce said.‘That’s right,’ Bean said. ‘He’ll be making a dash for itany moment. Keep your guns handy.’They sat there by the hole, waiting for the fox to comeout.And so far as I know, they are still waiting.53\\x0c'"
     },
     "metadata": {},
     "execution_count": 7
    }
   ],
   "source": [
    "# Test print the contents for Fantastic Mr Fox!\n",
    "raw_df.text.loc['fox'][45000:]"
   ]
  },
  {
   "cell_type": "markdown",
   "metadata": {},
   "source": [
    "## Getting started with Data cleaning!\n",
    "\n",
    "When data scientists process numerical data, they often remove invalid data (which can be automatically and manually interpreted), duplicate data, outliers and null data. There are several methods that we can iteratively apply along the way to clean our data:\n",
    "  - All lower case\n",
    "  - Remove punctuation, symbols and numerical values\n",
    "  - Remove common non-sensical text (such as line breakers `\\n`, as well as other escape characters such as `51\\x0c`)\n",
    "  - Tokenize text: split sentences into individual words (in preparation for DTM)\n",
    "  - Remove stop-words\n",
    "  - Using NLTK perform stemming and lemmatisation for words in the DTM, to reduce the number of inflicted words.\n",
    "  - Parts of speech tagging\n",
    "  - DTM for bi-grams/ tri-grams (phrases like thank you)\n",
    "  - fix typos (a bit too advanced.......)\n",
    "\n",
    "We want to apply these methods iteratively such that we can observe the results after each cleaning stage; this is especially important for text-preprocessing since an overly aggressive approach may result in key information being lost.  "
   ]
  },
  {
   "cell_type": "code",
   "execution_count": 8,
   "metadata": {},
   "outputs": [],
   "source": [
    "# First, make all text lower case, get rid of punctuation, numbers and other non-sensical text.\n",
    "\n",
    "import re\n",
    "import string\n",
    "\n",
    "def basic_text_clean(text):\n",
    "    text = text.lower() #lower case\n",
    "    text = re.sub('\\x0c', ' ', text) # non sensical text\n",
    "    text = re.sub('[%s]' % re.escape(string.punctuation), ' ', text) # punctuation\n",
    "    text = re.sub('\\w*\\d\\w*', ' ', text) # numbers in between text\n",
    "    return text\n",
    "\n",
    "basic_cleaning = lambda x: basic_text_clean(x)"
   ]
  },
  {
   "cell_type": "code",
   "execution_count": 9,
   "metadata": {},
   "outputs": [
    {
     "output_type": "execute_result",
     "data": {
      "text/plain": "                                                         text\nbook_names                                                   \nchocofact   this book is fantastic it is about a very poor...\nfox         down in the valley there were three farms  the...\nmatilda     the reader of books it’s a funny thing about m...",
      "text/html": "<div>\n<style scoped>\n    .dataframe tbody tr th:only-of-type {\n        vertical-align: middle;\n    }\n\n    .dataframe tbody tr th {\n        vertical-align: top;\n    }\n\n    .dataframe thead th {\n        text-align: right;\n    }\n</style>\n<table border=\"1\" class=\"dataframe\">\n  <thead>\n    <tr style=\"text-align: right;\">\n      <th></th>\n      <th>text</th>\n    </tr>\n    <tr>\n      <th>book_names</th>\n      <th></th>\n    </tr>\n  </thead>\n  <tbody>\n    <tr>\n      <th>chocofact</th>\n      <td>this book is fantastic it is about a very poor...</td>\n    </tr>\n    <tr>\n      <th>fox</th>\n      <td>down in the valley there were three farms  the...</td>\n    </tr>\n    <tr>\n      <th>matilda</th>\n      <td>the reader of books it’s a funny thing about m...</td>\n    </tr>\n  </tbody>\n</table>\n</div>"
     },
     "metadata": {},
     "execution_count": 9
    }
   ],
   "source": [
    "data_b_cleaned = pd.DataFrame(raw_df.text.apply(basic_cleaning))\n",
    "data_b_cleaned"
   ]
  },
  {
   "cell_type": "code",
   "execution_count": 11,
   "metadata": {},
   "outputs": [
    {
     "output_type": "execute_result",
     "data": {
      "text/plain": "'rounded the final cornerand burst in upon the most wonderful and amazingsight any of them had ever seen  the feast was justbeginning  a large dining room had been hollowed outof the earth  and in the middle of it  seated around ahuge table  were no less than twenty nine animals they were mrs fox and three small foxes mrs badger and three small badgers mole and mrs mole and four small moles rabbit and mrs rabbit and five small rabbits   weasel and mrs weasel and six small weasels the table was covered with chickens and ducks andgeese and hams and bacon  and everyone was tuckinginto the lovely food ‘my darling ’ cried mrs fox  jumping up and hugging mrfox  ‘we couldn’t wait  please forgive us ’ then shehugged the smallest fox of all  and mrs badger huggedbadger  and everyone hugged everyone else  amidshouts of joy  the great jars of cider were placed uponthe table  and mr fox and badger and the smallest foxsat down with the others you must remember no one had eaten a thing forseveral days  they were ravenous  so for a while therewas no conversation at all  there was only the sound ofcrunching and chewing as the animals attacked thesucculent food at last  badger stood up  he raised his glass of ciderand called out  ‘a toast  i want you all to stand and drinka toast to our dear friend who has saved our lives thisday – mr fox ’‘to mr fox ’ they all shouted  standing up and raisingtheir glasses  ‘to mr fox  long may he live ’then mrs fox got shyly to her feet and said  ‘i don’twant to make a speech  i just want to say one thing and it is this  my husband is a fantastic fox ’  everyone clapped and cheered  then mr fox himselfstood up ‘this delicious meal      ’ he began  then he stopped  inthe silence that followed  he let fly a tremendous belch there was laughter and more clapping  ‘this deliciousmeal  my friends ’ he went on  ‘is by courtesy of messrsboggis  bunce and bean ’  more cheering andlaughter   ‘and i hope you have enjoyed it as much as ihave ’ he let fly another colossal belch ‘better out than in ’ said badger ‘thank you ’ said mr fox  grinning hugely  ‘but now  myfriends  let us be serious  let us think of tomorrow andthe next day and the days after that  if we go out  wewill be killed  right ’‘right ’ they shouted ‘we’ll be shot before we’ve gone a yard ’ said badger ‘ex actly ’ said mr fox  ‘but whowants to go out anyway  let me ask you that  we are all diggers  everyone of us  we hate the outside  the outside is full ofenemies  we only go out because we have to  to getfood for our families  but now  my friends  we have anentirely new set up  we have a safe tunnel leading tothree of the finest stores in the world ’‘we do indeed ’ said badger  ‘i’ve seen ’em ’  ‘and you know what this means ’ said mr fox  ‘itmeans that none of us need ever go out into the openagain ’there was a buzz of excitement around the table ‘i therefore invite you all ’ mr fox went on  ‘to stay herewith me for ever ’‘for ever ’ they cried  ‘my goodness  how marvellous ’and rabbit said to mrs rabbit  ‘my dear  just think we’re never going to be shot at again in our lives ’‘we will make ’ said mr fox  ‘a little undergroundvillage  with streets and houses on each side –separate houses for badgers and moles and rabbitsand weasels and foxes  and every day i will goshopping for you all  and every day we will eat likekings ’the cheering that followed this speech went on formany minutes   outside the fox’s hole  boggis and bunce and bean satbeside their tents with their guns on their laps  it wasbeginning to rain  water was trickling down the necks ofthe three men and into their shoes ‘he won’t stay down there much longer now ’ boggissaid ‘the brute must be famished ’ bunce said ‘that’s right ’ bean said  ‘he’ll be making a dash for itany moment  keep your guns handy ’they sat there by the hole  waiting for the fox to comeout and so far as i know  they are still waiting   '"
     },
     "metadata": {},
     "execution_count": 11
    }
   ],
   "source": [
    "data_b_cleaned.text.loc['fox'][46000:]"
   ]
  },
  {
   "cell_type": "code",
   "execution_count": null,
   "metadata": {},
   "outputs": [],
   "source": []
  }
 ]
}